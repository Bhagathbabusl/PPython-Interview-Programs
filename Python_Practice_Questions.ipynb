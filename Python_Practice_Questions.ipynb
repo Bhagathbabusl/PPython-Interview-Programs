{
  "nbformat": 4,
  "nbformat_minor": 0,
  "metadata": {
    "colab": {
      "provenance": []
    },
    "kernelspec": {
      "name": "python3",
      "display_name": "Python 3"
    },
    "language_info": {
      "name": "python"
    }
  },
  "cells": [
    {
      "cell_type": "markdown",
      "source": [
        "**Python Practice Questions**"
      ],
      "metadata": {
        "id": "VgtiIEjFuwfS"
      }
    },
    {
      "cell_type": "code",
      "source": [],
      "metadata": {
        "id": "I8CxJQ9aB0LT"
      },
      "execution_count": null,
      "outputs": []
    },
    {
      "cell_type": "markdown",
      "source": [
        "Q1) **Reverse String**:\n",
        "Write a Python function called reverse_string that takes a string as input and returns the reverse of that\n",
        "string.\n"
      ],
      "metadata": {
        "id": "SHpBZNiwu8ZW"
      }
    },
    {
      "cell_type": "code",
      "execution_count": null,
      "metadata": {
        "colab": {
          "base_uri": "https://localhost:8080/",
          "height": 36
        },
        "id": "89_h-wKKutv3",
        "outputId": "78ac5f62-9819-48ba-f915-ddc69281fe7a"
      },
      "outputs": [
        {
          "output_type": "execute_result",
          "data": {
            "text/plain": [
              "'4321'"
            ],
            "application/vnd.google.colaboratory.intrinsic+json": {
              "type": "string"
            }
          },
          "metadata": {},
          "execution_count": 1
        }
      ],
      "source": [
        "def reverse_num(x):\n",
        "  a=x[::-1]\n",
        "  return a\n",
        "reverse_num(\"1234\")"
      ]
    },
    {
      "cell_type": "markdown",
      "source": [
        "**Q2) Palindrome**\n",
        "Write a Python function called is_palindrome that takes a string as input and returns True if the string is a\n",
        "palindrome (reads the same forwards and backwards), and False otherwise."
      ],
      "metadata": {
        "id": "Lne8MBA91kKL"
      }
    },
    {
      "cell_type": "code",
      "source": [
        "def is_palendrome(x):\n",
        "  a=x\n",
        "  b=x[::-1]\n",
        "  return a==b\n",
        "a='bab'\n",
        "is_palendrome(a)"
      ],
      "metadata": {
        "colab": {
          "base_uri": "https://localhost:8080/"
        },
        "id": "eYLicjOauymG",
        "outputId": "88c20136-3345-4a3c-9930-f1f3ab902454"
      },
      "execution_count": null,
      "outputs": [
        {
          "output_type": "execute_result",
          "data": {
            "text/plain": [
              "True"
            ]
          },
          "metadata": {},
          "execution_count": 3
        }
      ]
    },
    {
      "cell_type": "code",
      "source": [
        "a='bbbsds'\n",
        "is_palendrome(a)"
      ],
      "metadata": {
        "colab": {
          "base_uri": "https://localhost:8080/"
        },
        "id": "dQgqTqQquznV",
        "outputId": "cd40d50f-73b2-4c7f-e070-49e1be39c79a"
      },
      "execution_count": null,
      "outputs": [
        {
          "output_type": "execute_result",
          "data": {
            "text/plain": [
              "False"
            ]
          },
          "metadata": {},
          "execution_count": 4
        }
      ]
    },
    {
      "cell_type": "markdown",
      "source": [
        "**Q3) Count Vowels**:\n",
        "bold textWrite a Python function called count_vowels that takes a string as input and returns the count of vowels\n",
        "(a, e, i, o, u, case-insensitive) in the string.\n"
      ],
      "metadata": {
        "id": "cjL8gPNN2HgB"
      }
    },
    {
      "cell_type": "code",
      "source": [
        "def count_vowels(x):\n",
        "  a=['a','e','i','o','u','A','E','I','O','U']\n",
        "  b=0\n",
        "  for i in x:\n",
        "    if i in a:\n",
        "      b +=1\n",
        "  return b\n",
        "count_vowels(\"hdjhshjfagykgfkjgkehaaaaaaaaaaaagfjajhsg\")"
      ],
      "metadata": {
        "id": "CTKwzKvV2HqP",
        "colab": {
          "base_uri": "https://localhost:8080/"
        },
        "outputId": "1be6af57-58b7-46a1-91c2-f443555aab58"
      },
      "execution_count": null,
      "outputs": [
        {
          "output_type": "execute_result",
          "data": {
            "text/plain": [
              "15"
            ]
          },
          "metadata": {},
          "execution_count": 6
        }
      ]
    },
    {
      "cell_type": "code",
      "source": [
        "def count_vowels(x):\n",
        "  a='aeiouAEIOU'\n",
        "  b=0\n",
        "  for i in a:\n",
        "    for j in x:\n",
        "      if i==j:\n",
        "        b +=1\n",
        "  return b\n",
        "count_vowels(\"dds bauwepuhibnsbnc;iwehjcbjncbj\")"
      ],
      "metadata": {
        "id": "M5PnU0WP2HsU",
        "colab": {
          "base_uri": "https://localhost:8080/"
        },
        "outputId": "eb5284b0-6c8d-4cf6-ee7f-4a492dba6f8c"
      },
      "execution_count": null,
      "outputs": [
        {
          "output_type": "execute_result",
          "data": {
            "text/plain": [
              "7"
            ]
          },
          "metadata": {},
          "execution_count": 8
        }
      ]
    },
    {
      "cell_type": "markdown",
      "source": [
        "**Q4) Remove Duplicates**\n",
        "Write a Python function called remove_duplicates that takes a list as input and returns a new list with\n",
        "duplicate elements removed, while preserving the original order of elements."
      ],
      "metadata": {
        "id": "l3_2CoXk5vqC"
      }
    },
    {
      "cell_type": "code",
      "source": [
        "def remove_duplicates(x):\n",
        "  a=[]\n",
        "  for i in x:\n",
        "    if i not in a:\n",
        "      a.append(i)\n",
        "  return sorted(a)\n",
        "remove_duplicates([1,2,3,4,44,4,4,4,4,4,44,4,4])"
      ],
      "metadata": {
        "id": "epDojjwq2Hxf",
        "colab": {
          "base_uri": "https://localhost:8080/"
        },
        "outputId": "03afde09-e68a-4a26-ca90-29aef1225c25"
      },
      "execution_count": null,
      "outputs": [
        {
          "output_type": "execute_result",
          "data": {
            "text/plain": [
              "[1, 2, 3, 4, 44]"
            ]
          },
          "metadata": {},
          "execution_count": 10
        }
      ]
    },
    {
      "cell_type": "code",
      "source": [
        "def remove_duplicates(x):\n",
        "  a=set()\n",
        "  for i in x:\n",
        "    a.add(i)\n",
        "  return sorted(a)\n",
        "remove_duplicates([1,1,1,1,1,2,3,5,4,3,2,5])"
      ],
      "metadata": {
        "id": "Ug2vsf0-2Hz3",
        "colab": {
          "base_uri": "https://localhost:8080/"
        },
        "outputId": "d6d2b302-4d09-44e6-abfc-b4c55c60ee62"
      },
      "execution_count": null,
      "outputs": [
        {
          "output_type": "execute_result",
          "data": {
            "text/plain": [
              "[1, 2, 3, 4, 5]"
            ]
          },
          "metadata": {},
          "execution_count": 3
        }
      ]
    },
    {
      "cell_type": "markdown",
      "source": [
        "Q5) `Anagram`\n",
        "Write a Python function called is_anagram that takes *two* strings as input and returns True if the two\n",
        "strings are anagrams of each other, and False otherwise. An anagram is a word or phrase formed by\n",
        "rearranging the letters of another word or phrase, using all the original letters exactly once."
      ],
      "metadata": {
        "id": "rFqiX8_IIfRC"
      }
    },
    {
      "cell_type": "code",
      "source": [
        "def is_anagram(x,y):\n",
        "  if len(x)!=len(y):\n",
        "    return False\n",
        "  x_sorted=sorted(x)\n",
        "  y_sorted=sorted(y)\n",
        "  return x_sorted==y_sorted\n",
        "is_anagram(\"babu\",\"ubab\")"
      ],
      "metadata": {
        "id": "tuAakuiF2H2H",
        "colab": {
          "base_uri": "https://localhost:8080/"
        },
        "outputId": "ee789454-8299-46bc-cd2f-f5b5710f06f2"
      },
      "execution_count": null,
      "outputs": [
        {
          "output_type": "execute_result",
          "data": {
            "text/plain": [
              "True"
            ]
          },
          "metadata": {},
          "execution_count": 1
        }
      ]
    },
    {
      "cell_type": "markdown",
      "source": [
        "**Q6) Check Prime number**\n",
        "Write a Python function called is_prime that takes an integer as input and returns True if the integer is a\n",
        "prime number, and False otherwise. A prime number is a natural number greater than 1 that has no\n",
        "positive divisors other than 1 and itself"
      ],
      "metadata": {
        "id": "nKDrd28kRLTY"
      }
    },
    {
      "cell_type": "code",
      "source": [
        "def is_prime(x):\n",
        "  if x<2:\n",
        "    return \"not prime\"\n",
        "  if x>=2:\n",
        "    for i in range(1,x):\n",
        "      if x%i==0:\n",
        "        return \"not prime\"\n",
        "  else:\n",
        "    return \"prime\"\n",
        "\n",
        "is_prime(55)"
      ],
      "metadata": {
        "colab": {
          "base_uri": "https://localhost:8080/",
          "height": 36
        },
        "id": "S5B9mFvbJrXq",
        "outputId": "d3560599-617b-4f33-ac36-c134864dbe30"
      },
      "execution_count": null,
      "outputs": [
        {
          "output_type": "execute_result",
          "data": {
            "text/plain": [
              "'not prime'"
            ],
            "application/vnd.google.colaboratory.intrinsic+json": {
              "type": "string"
            }
          },
          "metadata": {},
          "execution_count": 11
        }
      ]
    },
    {
      "cell_type": "code",
      "source": [],
      "metadata": {
        "id": "n3KXZSeORV3C"
      },
      "execution_count": null,
      "outputs": []
    },
    {
      "cell_type": "markdown",
      "source": [
        "Q7) Reverse word, maintain the order\n",
        "**bold text**Write a Python function called reverse_words that takes a string as input and returns a new string where\n",
        "each word in the input string is reversed, while maintaining the order of words. bold text"
      ],
      "metadata": {
        "id": "Chq_JcEyS2LS"
      }
    },
    {
      "cell_type": "code",
      "source": [
        "b = \"amar sharma\"\n",
        "c = b.split()\n",
        "for i in c:\n",
        " print(i[::-1], end = \" \")\n"
      ],
      "metadata": {
        "colab": {
          "base_uri": "https://localhost:8080/"
        },
        "id": "CUFmGFr6S7rC",
        "outputId": "15f070da-733d-48f9-f30a-4eea5c7a92c7"
      },
      "execution_count": null,
      "outputs": [
        {
          "output_type": "stream",
          "name": "stdout",
          "text": [
            "rama amrahs "
          ]
        }
      ]
    },
    {
      "cell_type": "markdown",
      "source": [
        "Q8) **Pangram**\n",
        "Write a Python function called is_pangram that takes a string as input and returns True if the string is a\n",
        "pangram (contains every letter of the alphabet at least once), and False otherwise. Ignore case\n",
        "sensitivity.\n"
      ],
      "metadata": {
        "id": "TvzFA_m5TGBh"
      }
    },
    {
      "cell_type": "code",
      "source": [
        "def is_pangram(x):\n",
        "   a8 = \"abcdefghijklmnopqrstuvwxyz\"\n",
        "   for i in a8:\n",
        "     if i not in x.lower():\n",
        "        return False\n",
        "   return True"
      ],
      "metadata": {
        "id": "4-D0e9HZS7tc"
      },
      "execution_count": null,
      "outputs": []
    },
    {
      "cell_type": "code",
      "source": [
        "is_pangram(\"The quick brown fox jumps over the lazy dog\")\n"
      ],
      "metadata": {
        "colab": {
          "base_uri": "https://localhost:8080/"
        },
        "id": "vv8JVeqwS7wP",
        "outputId": "a44a833b-8c62-45ac-bdf5-eb0e88baf073"
      },
      "execution_count": null,
      "outputs": [
        {
          "output_type": "execute_result",
          "data": {
            "text/plain": [
              "True"
            ]
          },
          "metadata": {},
          "execution_count": 17
        }
      ]
    },
    {
      "cell_type": "code",
      "source": [
        "def is_pangram88(x):\n",
        "   a88 = x.lower()\n",
        "   b88 = set()\n",
        "   for i in a88:\n",
        "     if i.isalpha():\n",
        "       b88.add(i)\n",
        "       return len(b88) == 26\n",
        "is_pangram88(\"The quick brown fox jumps over the lazy dog\")"
      ],
      "metadata": {
        "colab": {
          "base_uri": "https://localhost:8080/"
        },
        "id": "8oIsURU0S7y1",
        "outputId": "63e8b802-baad-423b-bd17-cbce82e84e1d"
      },
      "execution_count": null,
      "outputs": [
        {
          "output_type": "execute_result",
          "data": {
            "text/plain": [
              "False"
            ]
          },
          "metadata": {},
          "execution_count": 18
        }
      ]
    },
    {
      "cell_type": "code",
      "source": [
        "# collected all alphabet in order, use of \"\".join(),sorted(x),x.isalpha(),x.lower()\n",
        "def alpha(x):\n",
        "  s = \"\"\n",
        "  for c in x:\n",
        "    if c.isalpha():\n",
        "      s += c\n",
        "  sorted_s = ''.join(sorted(s.lower()))\n",
        "  return sorted_s\n",
        "x = \"Hello, world! This is a test sentence.\"\n",
        "alpha(x)\n"
      ],
      "metadata": {
        "id": "5mp_a3c-S71X",
        "colab": {
          "base_uri": "https://localhost:8080/",
          "height": 36
        },
        "outputId": "6525ba34-b2e0-492d-ee53-52b37db97a41"
      },
      "execution_count": null,
      "outputs": [
        {
          "output_type": "execute_result",
          "data": {
            "text/plain": [
              "'acdeeeeehhiilllnnoorssssttttw'"
            ],
            "application/vnd.google.colaboratory.intrinsic+json": {
              "type": "string"
            }
          },
          "metadata": {},
          "execution_count": 2
        }
      ]
    },
    {
      "cell_type": "markdown",
      "source": [
        "**Q9) Sum of numbers**\n",
        "Write a Python function called sum_of_numbers that takes an integer as input and returns the sum of its\n",
        "digits"
      ],
      "metadata": {
        "id": "Cext_4P8vA-p"
      }
    },
    {
      "cell_type": "code",
      "source": [
        "def sum_of_numbers(*x):\n",
        "  a=0\n",
        "  for i in x:\n",
        "    a+=i\n",
        "  return a\n",
        "sum_of_numbers(9535,965,142)"
      ],
      "metadata": {
        "colab": {
          "base_uri": "https://localhost:8080/"
        },
        "id": "bI5BJbguvADL",
        "outputId": "1e6beb48-ca17-4822-ab42-3a5190e9cdde"
      },
      "execution_count": null,
      "outputs": [
        {
          "output_type": "execute_result",
          "data": {
            "text/plain": [
              "10642"
            ]
          },
          "metadata": {},
          "execution_count": 4
        }
      ]
    },
    {
      "cell_type": "markdown",
      "source": [
        "**Q10) Sum of Digits**\n",
        "Write a Python function called sum_of_digits that takes an integer as input and returns the sum of its\n",
        "digits.\n"
      ],
      "metadata": {
        "id": "yfZqfDOivpI1"
      }
    },
    {
      "cell_type": "code",
      "source": [
        "def sum_of_digit(x):\n",
        "  a=str(x)\n",
        "  c=0\n",
        "  for i in a:\n",
        "    b=int(i)\n",
        "    c+=b\n",
        "  return c\n",
        "\n",
        "sum_of_digit(9535965142)"
      ],
      "metadata": {
        "colab": {
          "base_uri": "https://localhost:8080/"
        },
        "id": "V4tk2H9zvAGL",
        "outputId": "91d95aa0-3f00-4ee2-9212-d56f571cc7dd"
      },
      "execution_count": null,
      "outputs": [
        {
          "output_type": "execute_result",
          "data": {
            "text/plain": [
              "49"
            ]
          },
          "metadata": {},
          "execution_count": 6
        }
      ]
    },
    {
      "cell_type": "markdown",
      "source": [
        "**Q11) Find Duplicates in list**\n",
        "Write a Python function called find_duplicates that takes a list as input and returns a list containing all the\n",
        "elements that appear more than once in the input list."
      ],
      "metadata": {
        "id": "hWSjx-pgwdMm"
      }
    },
    {
      "cell_type": "code",
      "source": [
        "def fint_duplicates(x):\n",
        "  b=[]\n",
        "  for i in x:\n",
        "    if x.count(i)>1:\n",
        "      if i not in b:\n",
        "        b.append(i)\n",
        "  return b\n",
        "fint_duplicates([1,3,3,3,2,2,1,5,6,7,8,8,9,9,0])"
      ],
      "metadata": {
        "id": "zaE6qYBEvAIw",
        "colab": {
          "base_uri": "https://localhost:8080/"
        },
        "outputId": "9a834131-8120-4a06-cbd8-411815c41c84"
      },
      "execution_count": null,
      "outputs": [
        {
          "output_type": "execute_result",
          "data": {
            "text/plain": [
              "[1, 3, 2, 8, 9]"
            ]
          },
          "metadata": {},
          "execution_count": 7
        }
      ]
    },
    {
      "cell_type": "markdown",
      "source": [
        "**List comprehension**\n",
        "\n",
        "List comprehension is a concise way of creating lists in Python. It allows you to construct a new list by\n",
        "applying an expression to each element of an iterable (such as a list, tuple, or range) and optionally\n",
        "including a condition to filter elements.\n",
        "The general syntax of a list comprehension is:\n",
        "[expression for item in iterable if condition]\n",
        "Where:\n",
        "expression is the operation you want to perform on each item.\n",
        "item is a variable representing each element in the iterable.\n",
        "iterable is the sequence of elements to iterate over.\n",
        "condition (optional) is a filtering condition that determines whether the item will be included in the\n",
        "resulting list.\n",
        "Here's an example to illustrate list comprehension:\n",
        "# Example 1: Square each number in a list\n",
        "numbers = [1, 2, 3, 4, 5]\n",
        "squared_numbers = [x**2 for x in numbers]\n",
        "print(squared_numbers) # Output: [1, 4, 9, 16, 25]\n",
        "# Example 2: Extract even numbers from a list\n",
        "numbers = [1, 2, 3, 4, 5, 6, 7, 8, 9, 10]\n",
        "even_numbers = [x for x in numbers if x % 2 == 0]\n",
        "print(even_numbers) # Output: [2, 4, 6, 8, 10]\n",
        "# Example 3: Convert strings to uppercase\n",
        "words = [\"hello\", \"world\", \"python\"]\n",
        "uppercase_words = [word.upper() for word in words]\n",
        "print(uppercase_words) # Output: ['HELLO', 'WORLD', 'PYTHON']\n",
        "In these examples:\n",
        "Example 1 squares each number in the numbers list using the expression x**2 .\n",
        "Example 2 filters out even numbers from the numbers list using the condition x % 2 == 0 .\n",
        "Example 3 converts each string in the words list to uppercase using the expression\n",
        "word.upper() .\n",
        "List comprehensions are concise and readable, making them a preferred choice for creating new lists in\n",
        "Python. They often result in shorter and more expressive code compared to traditional loops."
      ],
      "metadata": {
        "id": "BqHPAmRaxdeL"
      }
    },
    {
      "cell_type": "code",
      "source": [
        "a=[1,2,3,4,5,6,7]\n",
        "[x**2 for x in a if x%2==0]"
      ],
      "metadata": {
        "id": "B0KMdg9YvALa",
        "colab": {
          "base_uri": "https://localhost:8080/"
        },
        "outputId": "a8bf7883-5d68-4e2f-aa08-b5a37aa02375"
      },
      "execution_count": null,
      "outputs": [
        {
          "output_type": "execute_result",
          "data": {
            "text/plain": [
              "[4, 16, 36]"
            ]
          },
          "metadata": {},
          "execution_count": 1
        }
      ]
    },
    {
      "cell_type": "markdown",
      "source": [
        "**Q12) Reverse Dictionary**\n",
        "Write a Python function called reverse_dictionary that takes a dictionary as input and returns a new\n",
        "dictionary where the keys and values are swapped."
      ],
      "metadata": {
        "id": "HDHaD8Lx1Zoc"
      }
    },
    {
      "cell_type": "code",
      "source": [
        "def reverse_dictionary(x):\n",
        "  a={v: k for k,v in x.items()}\n",
        "  return a"
      ],
      "metadata": {
        "id": "eut4XG6-1WKN"
      },
      "execution_count": null,
      "outputs": []
    },
    {
      "cell_type": "code",
      "source": [
        "reverse_dictionary({\"name\":\"amar\",\"city\":\"dhanbad\"})\n"
      ],
      "metadata": {
        "id": "D60g8j2wvANy",
        "colab": {
          "base_uri": "https://localhost:8080/"
        },
        "outputId": "a24adaf6-fe23-43c5-b53b-11ae2357b8a8"
      },
      "execution_count": null,
      "outputs": [
        {
          "output_type": "execute_result",
          "data": {
            "text/plain": [
              "{'amar': 'name', 'dhanbad': 'city'}"
            ]
          },
          "metadata": {},
          "execution_count": 3
        }
      ]
    },
    {
      "cell_type": "markdown",
      "source": [
        "**Q13) Flatten List**\n",
        "Write a Python function called flatten_list that takes a nested list as input and returns a flattened list,\n",
        "where all nested lists are flattened into a single level."
      ],
      "metadata": {
        "id": "gzmR2DcX2ORH"
      }
    },
    {
      "cell_type": "code",
      "source": [
        "def flatten_list(x):\n",
        "  a=[]\n",
        "  for item in x:\n",
        "    if isinstance(item,list):\n",
        "      a.extend(flatten_list(item))\n",
        "    else:\n",
        "      a.append(item)\n",
        "  return a\n",
        "print(flatten_list([1, [2, 3], [4, [5, 6]]]))\n",
        "print(flatten_list([[1, 2, [3]], 4, [5, [6, 7]], [[8], 9]]))\n"
      ],
      "metadata": {
        "id": "6lIwia_213Id",
        "colab": {
          "base_uri": "https://localhost:8080/"
        },
        "outputId": "575848f6-08bd-4696-ebe9-e1547a861db3"
      },
      "execution_count": 11,
      "outputs": [
        {
          "output_type": "stream",
          "name": "stdout",
          "text": [
            "[1, 2, 3, 4, 5, 6]\n",
            "[1, 2, 3, 4, 5, 6, 7, 8, 9]\n"
          ]
        }
      ]
    },
    {
      "cell_type": "markdown",
      "source": [
        "**Q14) Merge Sorted Lists**:\n",
        "\n",
        "Write a Python function called merge_sorted_lists that takes two sorted lists as input and returns a new\n",
        "sorted list containing all elements from both input lists, merged together."
      ],
      "metadata": {
        "id": "mZkxIOGQ3YNP"
      }
    },
    {
      "cell_type": "code",
      "source": [
        "def missing_numbers(x,y):\n",
        "  a=[i for i in x if i not in y]\n",
        "  return a"
      ],
      "metadata": {
        "id": "05AvrjAS13GH"
      },
      "execution_count": 12,
      "outputs": []
    },
    {
      "cell_type": "code",
      "source": [
        "print(missing_numbers([1, 2, 3, 4, 5], [2, 3, 4]))\n",
        "print(missing_numbers([10, 11, 12, 13, 14, 15], [10, 12, 13, 15]))"
      ],
      "metadata": {
        "id": "EGPPOP5P13D3",
        "colab": {
          "base_uri": "https://localhost:8080/"
        },
        "outputId": "d5d806c5-1b2a-45cf-a1d6-29ae4a0b70a4"
      },
      "execution_count": 13,
      "outputs": [
        {
          "output_type": "stream",
          "name": "stdout",
          "text": [
            "[1, 5]\n",
            "[11, 14]\n"
          ]
        }
      ]
    },
    {
      "cell_type": "code",
      "source": [],
      "metadata": {
        "id": "Bb_5jO6R13Bd"
      },
      "execution_count": null,
      "outputs": []
    },
    {
      "cell_type": "code",
      "source": [],
      "metadata": {
        "id": "s9-tezOu12_I"
      },
      "execution_count": null,
      "outputs": []
    },
    {
      "cell_type": "code",
      "source": [],
      "metadata": {
        "id": "6IEdLu6E128j"
      },
      "execution_count": null,
      "outputs": []
    },
    {
      "cell_type": "code",
      "source": [],
      "metadata": {
        "id": "n_5upYft126A"
      },
      "execution_count": null,
      "outputs": []
    },
    {
      "cell_type": "code",
      "source": [],
      "metadata": {
        "id": "Tj3LagO_123V"
      },
      "execution_count": null,
      "outputs": []
    },
    {
      "cell_type": "code",
      "source": [],
      "metadata": {
        "id": "t17cWWn2120g"
      },
      "execution_count": null,
      "outputs": []
    },
    {
      "cell_type": "code",
      "source": [],
      "metadata": {
        "id": "s64S8PoI12yF"
      },
      "execution_count": null,
      "outputs": []
    }
  ]
}